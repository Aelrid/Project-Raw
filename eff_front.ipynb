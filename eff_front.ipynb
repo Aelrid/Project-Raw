{
 "cells": [
  {
   "cell_type": "code",
   "execution_count": 211,
   "source": [
    "import numpy as np\r\n",
    "import pandas as pd\r\n",
    "#from pandas_datareader import data as web\r\n",
    "import matplotlib.pyplot as plt\r\n",
    "%matplotlib inline\r\n",
    "import hvplot\r\n",
    "import panel as pn\r\n",
    "#pn.extension('plotly')\r\n",
    "import plotly.express as px\r\n",
    "import pandas as pd\r\n",
    "#import hvplot.pandas\r\n",
    "import matplotlib.pyplot as plt\r\n",
    "import os\r\n",
    "from pathlib import Path\r\n",
    "from dotenv import load_dotenv"
   ],
   "outputs": [],
   "metadata": {}
  },
  {
   "cell_type": "code",
   "execution_count": 125,
   "source": [
    "## Reading share data\r\n",
    "shares = pd.read_csv(r\"C:\\Users\\aelri\\Desktop\\Fintech-1\\Resources\\shares.csv\",index_col=\"Date\",infer_datetime_format=True, parse_dates=True)\r\n",
    "shares.head()\r\n",
    "\r\n",
    "portfolio_weights=np.array([0.33,0.33,0.34])"
   ],
   "outputs": [],
   "metadata": {}
  },
  {
   "cell_type": "code",
   "execution_count": 126,
   "source": [
    "## Percentage Change\r\n",
    "percent_change=shares.pct_change()\r\n",
    "percent_change"
   ],
   "outputs": [
    {
     "output_type": "execute_result",
     "data": {
      "text/html": [
       "<div>\n",
       "<style scoped>\n",
       "    .dataframe tbody tr th:only-of-type {\n",
       "        vertical-align: middle;\n",
       "    }\n",
       "\n",
       "    .dataframe tbody tr th {\n",
       "        vertical-align: top;\n",
       "    }\n",
       "\n",
       "    .dataframe thead th {\n",
       "        text-align: right;\n",
       "    }\n",
       "</style>\n",
       "<table border=\"1\" class=\"dataframe\">\n",
       "  <thead>\n",
       "    <tr style=\"text-align: right;\">\n",
       "      <th></th>\n",
       "      <th>google</th>\n",
       "      <th>nvda</th>\n",
       "      <th>amazon</th>\n",
       "    </tr>\n",
       "    <tr>\n",
       "      <th>Date</th>\n",
       "      <th></th>\n",
       "      <th></th>\n",
       "      <th></th>\n",
       "    </tr>\n",
       "  </thead>\n",
       "  <tbody>\n",
       "    <tr>\n",
       "      <th>2016-09-29</th>\n",
       "      <td>NaN</td>\n",
       "      <td>NaN</td>\n",
       "      <td>NaN</td>\n",
       "    </tr>\n",
       "    <tr>\n",
       "      <th>2016-09-30</th>\n",
       "      <td>0.002942</td>\n",
       "      <td>0.016617</td>\n",
       "      <td>0.009963</td>\n",
       "    </tr>\n",
       "    <tr>\n",
       "      <th>2016-10-03</th>\n",
       "      <td>-0.006085</td>\n",
       "      <td>-0.001022</td>\n",
       "      <td>-0.000681</td>\n",
       "    </tr>\n",
       "    <tr>\n",
       "      <th>2016-10-04</th>\n",
       "      <td>0.005009</td>\n",
       "      <td>-0.002191</td>\n",
       "      <td>-0.003239</td>\n",
       "    </tr>\n",
       "    <tr>\n",
       "      <th>2016-10-05</th>\n",
       "      <td>0.000051</td>\n",
       "      <td>-0.001025</td>\n",
       "      <td>0.012386</td>\n",
       "    </tr>\n",
       "    <tr>\n",
       "      <th>...</th>\n",
       "      <td>...</td>\n",
       "      <td>...</td>\n",
       "      <td>...</td>\n",
       "    </tr>\n",
       "    <tr>\n",
       "      <th>2021-09-22</th>\n",
       "      <td>0.009252</td>\n",
       "      <td>0.032712</td>\n",
       "      <td>0.010892</td>\n",
       "    </tr>\n",
       "    <tr>\n",
       "      <th>2021-09-23</th>\n",
       "      <td>0.006301</td>\n",
       "      <td>0.024657</td>\n",
       "      <td>0.010636</td>\n",
       "    </tr>\n",
       "    <tr>\n",
       "      <th>2021-09-24</th>\n",
       "      <td>0.005686</td>\n",
       "      <td>-0.017837</td>\n",
       "      <td>0.002787</td>\n",
       "    </tr>\n",
       "    <tr>\n",
       "      <th>2021-09-27</th>\n",
       "      <td>-0.007936</td>\n",
       "      <td>-0.019066</td>\n",
       "      <td>-0.005757</td>\n",
       "    </tr>\n",
       "    <tr>\n",
       "      <th>2021-09-28</th>\n",
       "      <td>-0.037576</td>\n",
       "      <td>-0.044368</td>\n",
       "      <td>-0.026379</td>\n",
       "    </tr>\n",
       "  </tbody>\n",
       "</table>\n",
       "<p>1258 rows × 3 columns</p>\n",
       "</div>"
      ],
      "text/plain": [
       "              google      nvda    amazon\n",
       "Date                                    \n",
       "2016-09-29       NaN       NaN       NaN\n",
       "2016-09-30  0.002942  0.016617  0.009963\n",
       "2016-10-03 -0.006085 -0.001022 -0.000681\n",
       "2016-10-04  0.005009 -0.002191 -0.003239\n",
       "2016-10-05  0.000051 -0.001025  0.012386\n",
       "...              ...       ...       ...\n",
       "2021-09-22  0.009252  0.032712  0.010892\n",
       "2021-09-23  0.006301  0.024657  0.010636\n",
       "2021-09-24  0.005686 -0.017837  0.002787\n",
       "2021-09-27 -0.007936 -0.019066 -0.005757\n",
       "2021-09-28 -0.037576 -0.044368 -0.026379\n",
       "\n",
       "[1258 rows x 3 columns]"
      ]
     },
     "metadata": {},
     "execution_count": 126
    }
   ],
   "metadata": {}
  },
  {
   "cell_type": "code",
   "execution_count": 127,
   "source": [
    "percent_change.dropna(inplace=True)\r\n",
    "percent_change"
   ],
   "outputs": [
    {
     "output_type": "execute_result",
     "data": {
      "text/html": [
       "<div>\n",
       "<style scoped>\n",
       "    .dataframe tbody tr th:only-of-type {\n",
       "        vertical-align: middle;\n",
       "    }\n",
       "\n",
       "    .dataframe tbody tr th {\n",
       "        vertical-align: top;\n",
       "    }\n",
       "\n",
       "    .dataframe thead th {\n",
       "        text-align: right;\n",
       "    }\n",
       "</style>\n",
       "<table border=\"1\" class=\"dataframe\">\n",
       "  <thead>\n",
       "    <tr style=\"text-align: right;\">\n",
       "      <th></th>\n",
       "      <th>google</th>\n",
       "      <th>nvda</th>\n",
       "      <th>amazon</th>\n",
       "    </tr>\n",
       "    <tr>\n",
       "      <th>Date</th>\n",
       "      <th></th>\n",
       "      <th></th>\n",
       "      <th></th>\n",
       "    </tr>\n",
       "  </thead>\n",
       "  <tbody>\n",
       "    <tr>\n",
       "      <th>2016-09-30</th>\n",
       "      <td>0.002942</td>\n",
       "      <td>0.016617</td>\n",
       "      <td>0.009963</td>\n",
       "    </tr>\n",
       "    <tr>\n",
       "      <th>2016-10-03</th>\n",
       "      <td>-0.006085</td>\n",
       "      <td>-0.001022</td>\n",
       "      <td>-0.000681</td>\n",
       "    </tr>\n",
       "    <tr>\n",
       "      <th>2016-10-04</th>\n",
       "      <td>0.005009</td>\n",
       "      <td>-0.002191</td>\n",
       "      <td>-0.003239</td>\n",
       "    </tr>\n",
       "    <tr>\n",
       "      <th>2016-10-05</th>\n",
       "      <td>0.000051</td>\n",
       "      <td>-0.001025</td>\n",
       "      <td>0.012386</td>\n",
       "    </tr>\n",
       "    <tr>\n",
       "      <th>2016-10-06</th>\n",
       "      <td>0.000502</td>\n",
       "      <td>-0.013044</td>\n",
       "      <td>-0.003198</td>\n",
       "    </tr>\n",
       "    <tr>\n",
       "      <th>...</th>\n",
       "      <td>...</td>\n",
       "      <td>...</td>\n",
       "      <td>...</td>\n",
       "    </tr>\n",
       "    <tr>\n",
       "      <th>2021-09-22</th>\n",
       "      <td>0.009252</td>\n",
       "      <td>0.032712</td>\n",
       "      <td>0.010892</td>\n",
       "    </tr>\n",
       "    <tr>\n",
       "      <th>2021-09-23</th>\n",
       "      <td>0.006301</td>\n",
       "      <td>0.024657</td>\n",
       "      <td>0.010636</td>\n",
       "    </tr>\n",
       "    <tr>\n",
       "      <th>2021-09-24</th>\n",
       "      <td>0.005686</td>\n",
       "      <td>-0.017837</td>\n",
       "      <td>0.002787</td>\n",
       "    </tr>\n",
       "    <tr>\n",
       "      <th>2021-09-27</th>\n",
       "      <td>-0.007936</td>\n",
       "      <td>-0.019066</td>\n",
       "      <td>-0.005757</td>\n",
       "    </tr>\n",
       "    <tr>\n",
       "      <th>2021-09-28</th>\n",
       "      <td>-0.037576</td>\n",
       "      <td>-0.044368</td>\n",
       "      <td>-0.026379</td>\n",
       "    </tr>\n",
       "  </tbody>\n",
       "</table>\n",
       "<p>1257 rows × 3 columns</p>\n",
       "</div>"
      ],
      "text/plain": [
       "              google      nvda    amazon\n",
       "Date                                    \n",
       "2016-09-30  0.002942  0.016617  0.009963\n",
       "2016-10-03 -0.006085 -0.001022 -0.000681\n",
       "2016-10-04  0.005009 -0.002191 -0.003239\n",
       "2016-10-05  0.000051 -0.001025  0.012386\n",
       "2016-10-06  0.000502 -0.013044 -0.003198\n",
       "...              ...       ...       ...\n",
       "2021-09-22  0.009252  0.032712  0.010892\n",
       "2021-09-23  0.006301  0.024657  0.010636\n",
       "2021-09-24  0.005686 -0.017837  0.002787\n",
       "2021-09-27 -0.007936 -0.019066 -0.005757\n",
       "2021-09-28 -0.037576 -0.044368 -0.026379\n",
       "\n",
       "[1257 rows x 3 columns]"
      ]
     },
     "metadata": {},
     "execution_count": 127
    }
   ],
   "metadata": {}
  },
  {
   "cell_type": "code",
   "execution_count": 128,
   "source": [
    "## Annulised variance\r\n",
    "portfolio_covariance=percent_change.cov()*252\r\n",
    "portfolio_covariance"
   ],
   "outputs": [
    {
     "output_type": "execute_result",
     "data": {
      "text/html": [
       "<div>\n",
       "<style scoped>\n",
       "    .dataframe tbody tr th:only-of-type {\n",
       "        vertical-align: middle;\n",
       "    }\n",
       "\n",
       "    .dataframe tbody tr th {\n",
       "        vertical-align: top;\n",
       "    }\n",
       "\n",
       "    .dataframe thead th {\n",
       "        text-align: right;\n",
       "    }\n",
       "</style>\n",
       "<table border=\"1\" class=\"dataframe\">\n",
       "  <thead>\n",
       "    <tr style=\"text-align: right;\">\n",
       "      <th></th>\n",
       "      <th>google</th>\n",
       "      <th>nvda</th>\n",
       "      <th>amazon</th>\n",
       "    </tr>\n",
       "  </thead>\n",
       "  <tbody>\n",
       "    <tr>\n",
       "      <th>google</th>\n",
       "      <td>0.071702</td>\n",
       "      <td>0.072616</td>\n",
       "      <td>0.052702</td>\n",
       "    </tr>\n",
       "    <tr>\n",
       "      <th>nvda</th>\n",
       "      <td>0.072616</td>\n",
       "      <td>0.231423</td>\n",
       "      <td>0.077523</td>\n",
       "    </tr>\n",
       "    <tr>\n",
       "      <th>amazon</th>\n",
       "      <td>0.052702</td>\n",
       "      <td>0.077523</td>\n",
       "      <td>0.086577</td>\n",
       "    </tr>\n",
       "  </tbody>\n",
       "</table>\n",
       "</div>"
      ],
      "text/plain": [
       "          google      nvda    amazon\n",
       "google  0.071702  0.072616  0.052702\n",
       "nvda    0.072616  0.231423  0.077523\n",
       "amazon  0.052702  0.077523  0.086577"
      ]
     },
     "metadata": {},
     "execution_count": 128
    }
   ],
   "metadata": {}
  },
  {
   "cell_type": "code",
   "execution_count": 129,
   "source": [
    "## portfolio variance\r\n",
    "portfolio_variance=np.dot(portfolio_weights.T,np.dot(portfolio_covariance,portfolio_weights))\r\n",
    "portfolio_variance"
   ],
   "outputs": [
    {
     "output_type": "execute_result",
     "data": {
      "text/plain": [
       "0.08805706756637122"
      ]
     },
     "metadata": {},
     "execution_count": 129
    }
   ],
   "metadata": {}
  },
  {
   "cell_type": "code",
   "execution_count": 130,
   "source": [
    "## portfolio standard deviation\r\n",
    "port_volatility=np.sqrt(portfolio_variance)\r\n",
    "port_volatility"
   ],
   "outputs": [
    {
     "output_type": "execute_result",
     "data": {
      "text/plain": [
       "0.2967441112581195"
      ]
     },
     "metadata": {},
     "execution_count": 130
    }
   ],
   "metadata": {}
  },
  {
   "cell_type": "code",
   "execution_count": 131,
   "source": [
    "## Caluclate annual portfolio return\r\n",
    "portfolio_return=np.sum(percent_change.mean()* portfolio_weights)*252\r\n",
    "portfolio_return"
   ],
   "outputs": [
    {
     "output_type": "execute_result",
     "data": {
      "text/plain": [
       "0.40926010386123846"
      ]
     },
     "metadata": {},
     "execution_count": 131
    }
   ],
   "metadata": {}
  },
  {
   "cell_type": "code",
   "execution_count": 132,
   "source": [
    "## Expected annual return ,volatility and variance\r\n",
    "percent_var= str(round(portfolio_variance,2) * 100) + \"%\"\r\n",
    "percent_vol=str(round(port_volatility,2) * 100) + \"%\"\r\n",
    "percent_return=str(round(portfolio_return,2)* 100) + \"%\"\r\n",
    "\r\n",
    "print (\"Expected Annual Return: \"+ percent_return)\r\n",
    "print(\"Expected Volatilty: \"+ percent_vol)\r\n",
    "print(\"Expected Variance: \"+ percent_var)"
   ],
   "outputs": [
    {
     "output_type": "stream",
     "name": "stdout",
     "text": [
      "Expected Annual Return: 41.0%\n",
      "Expected Volatilty: 30.0%\n",
      "Expected Variance: 9.0%\n"
     ]
    }
   ],
   "metadata": {}
  },
  {
   "cell_type": "code",
   "execution_count": 133,
   "source": [
    "pip install pyportfolioopt\r\n"
   ],
   "outputs": [
    {
     "output_type": "stream",
     "name": "stdout",
     "text": [
      "Requirement already satisfied: pyportfolioopt in c:\\users\\aelri\\anaconda3\\lib\\site-packages (1.4.2)Note: you may need to restart the kernel to use updated packages.\n",
      "Requirement already satisfied: numpy<2.0,>=1.12 in c:\\users\\aelri\\anaconda3\\lib\\site-packages (from pyportfolioopt) (1.19.0)\n",
      "Requirement already satisfied: pandas>=0.19 in c:\\users\\aelri\\anaconda3\\lib\\site-packages (from pyportfolioopt) (1.3.2)\n",
      "Requirement already satisfied: cvxpy<2.0.0,>=1.1.10 in c:\\users\\aelri\\anaconda3\\lib\\site-packages (from pyportfolioopt) (1.1.15)\n",
      "Requirement already satisfied: scipy<2.0,>=1.3 in c:\\users\\aelri\\anaconda3\\lib\\site-packages (from pyportfolioopt) (1.7.1)\n",
      "\n",
      "Requirement already satisfied: scs>=1.1.6 in c:\\users\\aelri\\anaconda3\\lib\\site-packages (from cvxpy<2.0.0,>=1.1.10->pyportfolioopt) (2.1.4)\n",
      "Requirement already satisfied: ecos>=2 in c:\\users\\aelri\\anaconda3\\lib\\site-packages (from cvxpy<2.0.0,>=1.1.10->pyportfolioopt) (2.0.7.post1)\n",
      "Requirement already satisfied: osqp>=0.4.1 in c:\\users\\aelri\\anaconda3\\lib\\site-packages (from cvxpy<2.0.0,>=1.1.10->pyportfolioopt) (0.6.2.post0)\n",
      "Requirement already satisfied: qdldl in c:\\users\\aelri\\anaconda3\\lib\\site-packages (from osqp>=0.4.1->cvxpy<2.0.0,>=1.1.10->pyportfolioopt) (0.1.5.post0)\n",
      "Requirement already satisfied: pytz>=2017.3 in c:\\users\\aelri\\anaconda3\\lib\\site-packages (from pandas>=0.19->pyportfolioopt) (2021.1)\n",
      "Requirement already satisfied: python-dateutil>=2.7.3 in c:\\users\\aelri\\anaconda3\\lib\\site-packages (from pandas>=0.19->pyportfolioopt) (2.8.2)\n",
      "Requirement already satisfied: six>=1.5 in c:\\users\\aelri\\anaconda3\\lib\\site-packages (from python-dateutil>=2.7.3->pandas>=0.19->pyportfolioopt) (1.15.0)\n"
     ]
    }
   ],
   "metadata": {}
  },
  {
   "cell_type": "code",
   "execution_count": 134,
   "source": [
    "from pypfopt.efficient_frontier import EfficientFrontier\r\n",
    "from pypfopt import risk_models\r\n",
    "from pypfopt import expected_returns\r\n",
    "from pypfopt.discrete_allocation import DiscreteAllocation, get_latest_prices"
   ],
   "outputs": [],
   "metadata": {}
  },
  {
   "cell_type": "code",
   "execution_count": 135,
   "source": [
    "## Portfolio optimisation\r\n",
    "## Calculate expected returns and the annualised covariance of asset returns\r\n",
    "mean=expected_returns.mean_historical_return(shares)\r\n",
    "a=risk_models.sample_cov(shares)\r\n",
    "\r\n",
    "# Optimise the Sharpe ratio\r\n",
    "eff_front=EfficientFrontier(mean,a)\r\n",
    "weights=eff_front.max_sharpe()\r\n",
    "cleaned_weights=eff_front.clean_weights()\r\n",
    "print(cleaned_weights)\r\n",
    "eff_front.portfolio_performance(verbose=True)\r\n"
   ],
   "outputs": [
    {
     "output_type": "stream",
     "name": "stdout",
     "text": [
      "OrderedDict([('google', 0.18173), ('nvda', 0.5444), ('amazon', 0.27387)])\n",
      "Expected annual return: 49.8%\n",
      "Annual volatility: 34.7%\n",
      "Sharpe Ratio: 1.38\n"
     ]
    },
    {
     "output_type": "execute_result",
     "data": {
      "text/plain": [
       "(0.498164795270972, 0.34667009081625205, 1.3793079009069087)"
      ]
     },
     "metadata": {},
     "execution_count": 135
    }
   ],
   "metadata": {}
  },
  {
   "cell_type": "code",
   "execution_count": 215,
   "source": [
    "from pypfopt.discrete_allocation import DiscreteAllocation, get_latest_prices\r\n",
    "latest_prices=get_latest_prices(shares)\r\n",
    "weights=cleaned_weights\r\n",
    "da= DiscreteAllocation(weights,latest_prices,total_portfolio_value= 10000)\r\n",
    "\r\n",
    "allocation,leftover =da.lp_portfolio()\r\n",
    "print(\"Discrete Allocation \", allocation)\r\n",
    "print('Funds Remaining '. format(leftover))\r\n"
   ],
   "outputs": [
    {
     "output_type": "error",
     "ename": "NameError",
     "evalue": "Solver GLPK_MI is not installed. ",
     "traceback": [
      "\u001b[1;31m---------------------------------------------------------------------------\u001b[0m",
      "\u001b[1;31mNameError\u001b[0m                                 Traceback (most recent call last)",
      "\u001b[1;32m~\\AppData\\Local\\Temp/ipykernel_14956/2019104581.py\u001b[0m in \u001b[0;36m<module>\u001b[1;34m\u001b[0m\n\u001b[0;32m      4\u001b[0m \u001b[0mda\u001b[0m\u001b[1;33m=\u001b[0m \u001b[0mDiscreteAllocation\u001b[0m\u001b[1;33m(\u001b[0m\u001b[0mweights\u001b[0m\u001b[1;33m,\u001b[0m\u001b[0mlatest_prices\u001b[0m\u001b[1;33m,\u001b[0m\u001b[0mtotal_portfolio_value\u001b[0m\u001b[1;33m=\u001b[0m \u001b[1;36m10000\u001b[0m\u001b[1;33m)\u001b[0m\u001b[1;33m\u001b[0m\u001b[1;33m\u001b[0m\u001b[0m\n\u001b[0;32m      5\u001b[0m \u001b[1;33m\u001b[0m\u001b[0m\n\u001b[1;32m----> 6\u001b[1;33m \u001b[0mallocation\u001b[0m\u001b[1;33m,\u001b[0m\u001b[0mleftover\u001b[0m \u001b[1;33m=\u001b[0m\u001b[0mda\u001b[0m\u001b[1;33m.\u001b[0m\u001b[0mlp_portfolio\u001b[0m\u001b[1;33m(\u001b[0m\u001b[1;33m)\u001b[0m\u001b[1;33m\u001b[0m\u001b[1;33m\u001b[0m\u001b[0m\n\u001b[0m\u001b[0;32m      7\u001b[0m \u001b[0mprint\u001b[0m\u001b[1;33m(\u001b[0m\u001b[1;34m\"Discrete Allocation \"\u001b[0m\u001b[1;33m,\u001b[0m \u001b[0mallocation\u001b[0m\u001b[1;33m)\u001b[0m\u001b[1;33m\u001b[0m\u001b[1;33m\u001b[0m\u001b[0m\n\u001b[0;32m      8\u001b[0m \u001b[0mprint\u001b[0m\u001b[1;33m(\u001b[0m\u001b[1;34m'Funds Remaining '\u001b[0m\u001b[1;33m.\u001b[0m \u001b[0mformat\u001b[0m\u001b[1;33m(\u001b[0m\u001b[0mleftover\u001b[0m\u001b[1;33m)\u001b[0m\u001b[1;33m)\u001b[0m\u001b[1;33m\u001b[0m\u001b[1;33m\u001b[0m\u001b[0m\n",
      "\u001b[1;32m~\\anaconda3\\lib\\site-packages\\pypfopt\\discrete_allocation.py\u001b[0m in \u001b[0;36mlp_portfolio\u001b[1;34m(self, reinvest, verbose, solver)\u001b[0m\n\u001b[0;32m    322\u001b[0m \u001b[1;33m\u001b[0m\u001b[0m\n\u001b[0;32m    323\u001b[0m         \u001b[1;32mif\u001b[0m \u001b[0msolver\u001b[0m \u001b[1;32mis\u001b[0m \u001b[1;32mnot\u001b[0m \u001b[1;32mNone\u001b[0m \u001b[1;32mand\u001b[0m \u001b[0msolver\u001b[0m \u001b[1;32mnot\u001b[0m \u001b[1;32min\u001b[0m \u001b[0mcp\u001b[0m\u001b[1;33m.\u001b[0m\u001b[0minstalled_solvers\u001b[0m\u001b[1;33m(\u001b[0m\u001b[1;33m)\u001b[0m\u001b[1;33m:\u001b[0m\u001b[1;33m\u001b[0m\u001b[1;33m\u001b[0m\u001b[0m\n\u001b[1;32m--> 324\u001b[1;33m             \u001b[1;32mraise\u001b[0m \u001b[0mNameError\u001b[0m\u001b[1;33m(\u001b[0m\u001b[1;34m\"Solver {} is not installed. \"\u001b[0m\u001b[1;33m.\u001b[0m\u001b[0mformat\u001b[0m\u001b[1;33m(\u001b[0m\u001b[0msolver\u001b[0m\u001b[1;33m)\u001b[0m\u001b[1;33m)\u001b[0m\u001b[1;33m\u001b[0m\u001b[1;33m\u001b[0m\u001b[0m\n\u001b[0m\u001b[0;32m    325\u001b[0m         \u001b[0mopt\u001b[0m\u001b[1;33m.\u001b[0m\u001b[0msolve\u001b[0m\u001b[1;33m(\u001b[0m\u001b[0msolver\u001b[0m\u001b[1;33m=\u001b[0m\u001b[0msolver\u001b[0m\u001b[1;33m)\u001b[0m\u001b[1;33m\u001b[0m\u001b[1;33m\u001b[0m\u001b[0m\n\u001b[0;32m    326\u001b[0m \u001b[1;33m\u001b[0m\u001b[0m\n",
      "\u001b[1;31mNameError\u001b[0m: Solver GLPK_MI is not installed. "
     ]
    }
   ],
   "metadata": {}
  },
  {
   "cell_type": "code",
   "execution_count": 168,
   "source": [
    "port_returns=[]\r\n",
    "port_weights=[]\r\n",
    "port_vol=[]\r\n",
    "num_assets=len(shares.columns)\r\n",
    "num_port= 5000\r\n",
    "shares.reset_index().set_index('Date') \r\n",
    "individual_return=shares.resample('Y').last().pct_change().mean()"
   ],
   "outputs": [],
   "metadata": {}
  },
  {
   "cell_type": "code",
   "execution_count": 169,
   "source": [
    "for portfolio in range(num_port):\r\n",
    "    weights=np.random.random(num_assets)\r\n",
    "    weights=weights/np.sum(weights)\r\n",
    "    port_weights.append(weights)\r\n",
    "    returns=np.dot(weights,individual_return)\r\n",
    "    port_returns.append(returns)\r\n",
    "    #var=np.dot(weights.T,np.dot(portfolio_covariance,weights))\r\n",
    "    #sd=np.sqrt(var)\r\n",
    "    #print(sd)\r\n",
    "    var=portfolio_covariance.mul(weights,axis=0).mul(weights, axis=1).sum().sum()\r\n",
    "    sd=np.sqrt(var)\r\n",
    "   # print(sd)\r\n",
    "    #annualised_sd=sd*np.sqrt(252)\r\n",
    "    port_vol.append(sd)\r\n"
   ],
   "outputs": [],
   "metadata": {}
  },
  {
   "cell_type": "code",
   "execution_count": 170,
   "source": [
    "newdata={\"Returns\": port_returns,\"Volatility\": port_vol}\r\n",
    "\r\n",
    "for counter,symbol in enumerate(shares.columns.tolist()):\r\n",
    "    newdata[symbol+\"weight\"]=[w[counter] for w in port_weights]\r\n",
    "df = pd.DataFrame.from_dict(newdata, orient='index')"
   ],
   "outputs": [],
   "metadata": {}
  },
  {
   "cell_type": "code",
   "execution_count": 178,
   "source": [
    "revised_portfolio=pd.DataFrame(df)\r\n",
    "revised_portfolio.head()\r\n",
    "revised_portfolio.T.dropna()\r\n",
    "revised_portfolio=revised_portfolio.T.dropna()\r\n",
    "##revised_portfolio['Returns'] = [float(x) for x in revised_portfolio['Returns']]\r\n",
    "##revised_portfolio['Volatility'] = [float(x) for x in revised_portfolio['Volatility']]\r\n",
    "##revised_portfolio[\"Volatility\"] = pd.to_numeric(revised_portfolio[\"Volatility\"], downcast=\"float\")\r\n",
    "revised_portfolio"
   ],
   "outputs": [
    {
     "output_type": "execute_result",
     "data": {
      "text/html": [
       "<div>\n",
       "<style scoped>\n",
       "    .dataframe tbody tr th:only-of-type {\n",
       "        vertical-align: middle;\n",
       "    }\n",
       "\n",
       "    .dataframe tbody tr th {\n",
       "        vertical-align: top;\n",
       "    }\n",
       "\n",
       "    .dataframe thead th {\n",
       "        text-align: right;\n",
       "    }\n",
       "</style>\n",
       "<table border=\"1\" class=\"dataframe\">\n",
       "  <thead>\n",
       "    <tr style=\"text-align: right;\">\n",
       "      <th></th>\n",
       "      <th>Returns</th>\n",
       "      <th>Volatility</th>\n",
       "      <th>googleweight</th>\n",
       "      <th>nvdaweight</th>\n",
       "      <th>amazonweight</th>\n",
       "    </tr>\n",
       "  </thead>\n",
       "  <tbody>\n",
       "    <tr>\n",
       "      <th>0</th>\n",
       "      <td>0.408572</td>\n",
       "      <td>0.283196</td>\n",
       "      <td>0.342960</td>\n",
       "      <td>0.250167</td>\n",
       "      <td>0.406872</td>\n",
       "    </tr>\n",
       "    <tr>\n",
       "      <th>1</th>\n",
       "      <td>0.360761</td>\n",
       "      <td>0.262616</td>\n",
       "      <td>0.538282</td>\n",
       "      <td>0.112594</td>\n",
       "      <td>0.349125</td>\n",
       "    </tr>\n",
       "    <tr>\n",
       "      <th>2</th>\n",
       "      <td>0.484719</td>\n",
       "      <td>0.337810</td>\n",
       "      <td>0.150579</td>\n",
       "      <td>0.503211</td>\n",
       "      <td>0.346210</td>\n",
       "    </tr>\n",
       "    <tr>\n",
       "      <th>3</th>\n",
       "      <td>0.445082</td>\n",
       "      <td>0.306639</td>\n",
       "      <td>0.247397</td>\n",
       "      <td>0.370541</td>\n",
       "      <td>0.382062</td>\n",
       "    </tr>\n",
       "    <tr>\n",
       "      <th>4</th>\n",
       "      <td>0.359315</td>\n",
       "      <td>0.265430</td>\n",
       "      <td>0.639830</td>\n",
       "      <td>0.135773</td>\n",
       "      <td>0.224397</td>\n",
       "    </tr>\n",
       "    <tr>\n",
       "      <th>...</th>\n",
       "      <td>...</td>\n",
       "      <td>...</td>\n",
       "      <td>...</td>\n",
       "      <td>...</td>\n",
       "      <td>...</td>\n",
       "    </tr>\n",
       "    <tr>\n",
       "      <th>4995</th>\n",
       "      <td>0.388754</td>\n",
       "      <td>0.290249</td>\n",
       "      <td>0.031506</td>\n",
       "      <td>0.080954</td>\n",
       "      <td>0.887540</td>\n",
       "    </tr>\n",
       "    <tr>\n",
       "      <th>4996</th>\n",
       "      <td>0.469397</td>\n",
       "      <td>0.323593</td>\n",
       "      <td>0.072848</td>\n",
       "      <td>0.419004</td>\n",
       "      <td>0.508148</td>\n",
       "    </tr>\n",
       "    <tr>\n",
       "      <th>4997</th>\n",
       "      <td>0.467016</td>\n",
       "      <td>0.337927</td>\n",
       "      <td>0.444822</td>\n",
       "      <td>0.515715</td>\n",
       "      <td>0.039464</td>\n",
       "    </tr>\n",
       "    <tr>\n",
       "      <th>4998</th>\n",
       "      <td>0.541190</td>\n",
       "      <td>0.390554</td>\n",
       "      <td>0.034037</td>\n",
       "      <td>0.698336</td>\n",
       "      <td>0.267627</td>\n",
       "    </tr>\n",
       "    <tr>\n",
       "      <th>4999</th>\n",
       "      <td>0.368968</td>\n",
       "      <td>0.264812</td>\n",
       "      <td>0.444589</td>\n",
       "      <td>0.119007</td>\n",
       "      <td>0.436403</td>\n",
       "    </tr>\n",
       "  </tbody>\n",
       "</table>\n",
       "<p>5000 rows × 5 columns</p>\n",
       "</div>"
      ],
      "text/plain": [
       "       Returns  Volatility  googleweight  nvdaweight  amazonweight\n",
       "0     0.408572    0.283196      0.342960    0.250167      0.406872\n",
       "1     0.360761    0.262616      0.538282    0.112594      0.349125\n",
       "2     0.484719    0.337810      0.150579    0.503211      0.346210\n",
       "3     0.445082    0.306639      0.247397    0.370541      0.382062\n",
       "4     0.359315    0.265430      0.639830    0.135773      0.224397\n",
       "...        ...         ...           ...         ...           ...\n",
       "4995  0.388754    0.290249      0.031506    0.080954      0.887540\n",
       "4996  0.469397    0.323593      0.072848    0.419004      0.508148\n",
       "4997  0.467016    0.337927      0.444822    0.515715      0.039464\n",
       "4998  0.541190    0.390554      0.034037    0.698336      0.267627\n",
       "4999  0.368968    0.264812      0.444589    0.119007      0.436403\n",
       "\n",
       "[5000 rows x 5 columns]"
      ]
     },
     "metadata": {},
     "execution_count": 178
    }
   ],
   "metadata": {}
  },
  {
   "cell_type": "code",
   "execution_count": 181,
   "source": [
    "revised_portfolio.plot.scatter(x='Volatility',y='Returns',marker=\"o\",c=\"red\",s=15,alpha=0.5,grid=True,figsize=[10,10])\r\n",
    "plt.xlabel(\"Risk\")\r\n",
    "plt.ylabel(\"Expected Returns\")"
   ],
   "outputs": [
    {
     "output_type": "execute_result",
     "data": {
      "text/plain": [
       "Text(0, 0.5, 'Expected Returns')"
      ]
     },
     "metadata": {},
     "execution_count": 181
    },
    {
     "output_type": "display_data",
     "data": {
      "image/png": "[encoded data removed]",
      "text/plain": [
       "<Figure size 720x720 with 1 Axes>"
      ]
     },
     "metadata": {
      "needs_background": "light"
     }
    }
   ],
   "metadata": {}
  },
  {
   "cell_type": "code",
   "execution_count": 182,
   "source": [
    "##Minimum Volatility Portfolio\r\n",
    "min_vol_port=revised_portfolio.iloc[revised_portfolio[\"Volatility\"].idxmin()]\r\n",
    "min_vol_port"
   ],
   "outputs": [
    {
     "output_type": "execute_result",
     "data": {
      "text/plain": [
       "Returns         0.326011\n",
       "Volatility      0.254713\n",
       "googleweight    0.636808\n",
       "nvdaweight      0.000184\n",
       "amazonweight    0.363008\n",
       "Name: 417, dtype: float64"
      ]
     },
     "metadata": {},
     "execution_count": 182
    }
   ],
   "metadata": {}
  },
  {
   "cell_type": "code",
   "execution_count": 180,
   "source": [
    "## Optimal Risky Portfolio\r\n",
    "rf=0\r\n",
    "optimal_risky_Portfolio=revised_portfolio.iloc[((revised_portfolio['Returns']-rf)/revised_portfolio[\"Volatility\"]).idxmax()]\r\n",
    "optimal_risky_Portfolio"
   ],
   "outputs": [
    {
     "output_type": "execute_result",
     "data": {
      "text/plain": [
       "Returns         0.442272\n",
       "Volatility      0.303831\n",
       "googleweight    0.172971\n",
       "nvdaweight      0.337896\n",
       "amazonweight    0.489133\n",
       "Name: 2492, dtype: float64"
      ]
     },
     "metadata": {},
     "execution_count": 180
    }
   ],
   "metadata": {}
  },
  {
   "cell_type": "code",
   "execution_count": 199,
   "source": [
    "## plotting the optimal portfolio and minimum volatility\r\n",
    "plt.scatter(revised_portfolio[\"Volatility\"], revised_portfolio[\"Returns\"],marker='o', s = 10,alpha = 0.3, c =\"green\")\r\n",
    "plt.scatter(min_vol_port[1],min_vol_port[0],c=\"y\",marker=\"*\",s=500)\r\n",
    "plt.scatter(optimal_risky_Portfolio[1],optimal_risky_Portfolio[0],c=\"b\",marker=\"*\",s=500)\r\n",
    "plt.xlabel(\"Risk\")\r\n",
    "plt.ylabel(\"Expected Returns\")"
   ],
   "outputs": [
    {
     "output_type": "execute_result",
     "data": {
      "text/plain": [
       "Text(0, 0.5, 'Expected Returns')"
      ]
     },
     "metadata": {},
     "execution_count": 199
    },
    {
     "output_type": "display_data",
     "data": {
      "image/png": "[encoded data removed]",
      "text/plain": [
       "<Figure size 432x288 with 1 Axes>"
      ]
     },
     "metadata": {
      "needs_background": "light"
     }
    }
   ],
   "metadata": {}
  },
  {
   "cell_type": "code",
   "execution_count": 214,
   "source": [
    "optimal_risky_Portfolio.hvplot.scatter(x=\"Volatility\",y=\"Returns\",by=\"Returns\",legend=\"top\", height=400, width =400)"
   ],
   "outputs": [
    {
     "output_type": "error",
     "ename": "AttributeError",
     "evalue": "'Series' object has no attribute 'hvplot'",
     "traceback": [
      "\u001b[1;31m---------------------------------------------------------------------------\u001b[0m",
      "\u001b[1;31mAttributeError\u001b[0m                            Traceback (most recent call last)",
      "\u001b[1;32m~\\AppData\\Local\\Temp/ipykernel_14956/1681395871.py\u001b[0m in \u001b[0;36m<module>\u001b[1;34m\u001b[0m\n\u001b[1;32m----> 1\u001b[1;33m \u001b[0moptimal_risky_Portfolio\u001b[0m\u001b[1;33m.\u001b[0m\u001b[0mhvplot\u001b[0m\u001b[1;33m.\u001b[0m\u001b[0mscatter\u001b[0m\u001b[1;33m(\u001b[0m\u001b[0mx\u001b[0m\u001b[1;33m=\u001b[0m\u001b[1;34m\"Volatility\"\u001b[0m\u001b[1;33m,\u001b[0m\u001b[0my\u001b[0m\u001b[1;33m=\u001b[0m\u001b[1;34m\"Returns\"\u001b[0m\u001b[1;33m,\u001b[0m\u001b[0mby\u001b[0m\u001b[1;33m=\u001b[0m\u001b[1;34m\"Returns\"\u001b[0m\u001b[1;33m,\u001b[0m\u001b[0mlegend\u001b[0m\u001b[1;33m=\u001b[0m\u001b[1;34m\"top\"\u001b[0m\u001b[1;33m,\u001b[0m \u001b[0mheight\u001b[0m\u001b[1;33m=\u001b[0m\u001b[1;36m400\u001b[0m\u001b[1;33m,\u001b[0m \u001b[0mwidth\u001b[0m \u001b[1;33m=\u001b[0m\u001b[1;36m400\u001b[0m\u001b[1;33m)\u001b[0m\u001b[1;33m\u001b[0m\u001b[1;33m\u001b[0m\u001b[0m\n\u001b[0m",
      "\u001b[1;32m~\\anaconda3\\lib\\site-packages\\pandas\\core\\generic.py\u001b[0m in \u001b[0;36m__getattr__\u001b[1;34m(self, name)\u001b[0m\n\u001b[0;32m   5485\u001b[0m         ):\n\u001b[0;32m   5486\u001b[0m             \u001b[1;32mreturn\u001b[0m \u001b[0mself\u001b[0m\u001b[1;33m[\u001b[0m\u001b[0mname\u001b[0m\u001b[1;33m]\u001b[0m\u001b[1;33m\u001b[0m\u001b[1;33m\u001b[0m\u001b[0m\n\u001b[1;32m-> 5487\u001b[1;33m         \u001b[1;32mreturn\u001b[0m \u001b[0mobject\u001b[0m\u001b[1;33m.\u001b[0m\u001b[0m__getattribute__\u001b[0m\u001b[1;33m(\u001b[0m\u001b[0mself\u001b[0m\u001b[1;33m,\u001b[0m \u001b[0mname\u001b[0m\u001b[1;33m)\u001b[0m\u001b[1;33m\u001b[0m\u001b[1;33m\u001b[0m\u001b[0m\n\u001b[0m\u001b[0;32m   5488\u001b[0m \u001b[1;33m\u001b[0m\u001b[0m\n\u001b[0;32m   5489\u001b[0m     \u001b[1;32mdef\u001b[0m \u001b[0m__setattr__\u001b[0m\u001b[1;33m(\u001b[0m\u001b[0mself\u001b[0m\u001b[1;33m,\u001b[0m \u001b[0mname\u001b[0m\u001b[1;33m:\u001b[0m \u001b[0mstr\u001b[0m\u001b[1;33m,\u001b[0m \u001b[0mvalue\u001b[0m\u001b[1;33m)\u001b[0m \u001b[1;33m->\u001b[0m \u001b[1;32mNone\u001b[0m\u001b[1;33m:\u001b[0m\u001b[1;33m\u001b[0m\u001b[1;33m\u001b[0m\u001b[0m\n",
      "\u001b[1;31mAttributeError\u001b[0m: 'Series' object has no attribute 'hvplot'"
     ]
    }
   ],
   "metadata": {}
  }
 ],
 "metadata": {
  "orig_nbformat": 4,
  "language_info": {
   "name": "python",
   "version": "3.8.11",
   "mimetype": "text/x-python",
   "codemirror_mode": {
    "name": "ipython",
    "version": 3
   },
   "pygments_lexer": "ipython3",
   "nbconvert_exporter": "python",
   "file_extension": ".py"
  },
  "kernelspec": {
   "name": "python3",
   "display_name": "Python 3.7.10 64-bit ('pyvizenv': conda)"
  },
  "interpreter": {
   "hash": "f9fc12a3237a571a4421f45861861a0c90252194e277bf2c8cd35b97396610da"
  }
 },
 "nbformat": 4,
 "nbformat_minor": 2
}